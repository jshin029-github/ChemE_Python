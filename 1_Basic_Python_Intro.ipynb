{
 "cells": [
  {
   "cell_type": "markdown",
   "metadata": {},
   "source": [
    "# Basic Python Intro\n",
    "By John Shin, 20 May 2020\n",
    "\n",
    "## Introduction\n",
    "This notebook will take you through some basic Python functionality as a prelude to the series, _Basic Python for Chemical Engineers_. You shouldn't need any background or prior experience for this tutorial!\n"
   ]
  },
  {
   "cell_type": "markdown",
   "metadata": {},
   "source": [
    "## Hello World!\n",
    "To get comfortable with Python, let's start with a simple `Hello World!`. In order to represent words and characters in Python, you must use `strings`. To do so, you simply enclose your string with quotes:"
   ]
  },
  {
   "cell_type": "code",
   "execution_count": null,
   "metadata": {},
   "outputs": [],
   "source": [
    "'Hello World!'"
   ]
  },
  {
   "cell_type": "markdown",
   "metadata": {},
   "source": [
    "You can do some pretty neat things with strings. For example, you can join two strings by a `+`:"
   ]
  },
  {
   "cell_type": "code",
   "execution_count": null,
   "metadata": {},
   "outputs": [],
   "source": [
    "'Hello World!' + ' My name is John!'"
   ]
  },
  {
   "cell_type": "markdown",
   "metadata": {},
   "source": [
    "You can also put quotes in strings by using either single or double quotes to make your string:"
   ]
  },
  {
   "cell_type": "code",
   "execution_count": null,
   "metadata": {},
   "outputs": [],
   "source": [
    "'\"Hello World!\"'"
   ]
  },
  {
   "cell_type": "code",
   "execution_count": null,
   "metadata": {},
   "outputs": [],
   "source": [
    "\"'Hello World!'\""
   ]
  },
  {
   "cell_type": "markdown",
   "metadata": {},
   "source": [
    "You can turn anything into a string by using the `str` function:"
   ]
  },
  {
   "cell_type": "code",
   "execution_count": null,
   "metadata": {},
   "outputs": [],
   "source": [
    "'I have said ' + '\"Hello World!\" ' + str(3) + ' times now!'"
   ]
  },
  {
   "cell_type": "markdown",
   "metadata": {},
   "source": [
    "## Python as a scientific calculator\n",
    "The simplest way to use Python is just as a fancy calculator. In this Jupyter notebook environment, you can type in any expression and press <kbd>SHIFT</kbd> + <kbd>ENTER</kbd> to see the output\n",
    "\n",
    "Let's try a basic example:"
   ]
  },
  {
   "cell_type": "code",
   "execution_count": null,
   "metadata": {},
   "outputs": [],
   "source": [
    "2+2"
   ]
  },
  {
   "cell_type": "markdown",
   "metadata": {},
   "source": [
    "So what happens if you want to type multiple equations?"
   ]
  },
  {
   "cell_type": "code",
   "execution_count": null,
   "metadata": {},
   "outputs": [],
   "source": [
    "2+2\n",
    "4-1"
   ]
  },
  {
   "cell_type": "markdown",
   "metadata": {},
   "source": [
    "You can see that the cell only outputs the last line of code. To see each output, you could make a new cell for each calculation (Insert --> Cell Below) or use Python's built-in `print` function!\n",
    "\n",
    "Let's try it out:"
   ]
  },
  {
   "cell_type": "code",
   "execution_count": null,
   "metadata": {},
   "outputs": [],
   "source": [
    "print(2+2)\n",
    "print(4-1)"
   ]
  },
  {
   "cell_type": "markdown",
   "metadata": {},
   "source": [
    "The next step is to assign variables. Say you wanted to find the area of a rectange given the length and width. We can assign variables as follows:"
   ]
  },
  {
   "cell_type": "code",
   "execution_count": null,
   "metadata": {},
   "outputs": [],
   "source": [
    "length = 4\n",
    "width = 5\n",
    "area = length * width"
   ]
  },
  {
   "cell_type": "markdown",
   "metadata": {},
   "source": [
    "Note that the last line doesn't give an output. This is because it is an expression (i.e. there is an equals sign)!\n",
    "\n",
    "To see the values assigned to each variable, we must either print the variable or write out the variable in the last line of the cell:"
   ]
  },
  {
   "cell_type": "code",
   "execution_count": null,
   "metadata": {},
   "outputs": [],
   "source": [
    "print(length)\n",
    "print(width)\n",
    "area"
   ]
  },
  {
   "cell_type": "markdown",
   "metadata": {},
   "source": [
    "Note that variable names must begin with a letter and not contain any special characters. To be safe, my convention is to make variable names words separated by underscores.\n",
    "\n",
    "For example:"
   ]
  },
  {
   "cell_type": "code",
   "execution_count": null,
   "metadata": {},
   "outputs": [],
   "source": [
    "area_of_square = length * length\n",
    "area_of_square"
   ]
  },
  {
   "cell_type": "markdown",
   "metadata": {},
   "source": [
    "Also, once you assign a variable, it doesn't change anymore. To see what I mean, let's change `length` and see that `area` stays the same:"
   ]
  },
  {
   "cell_type": "code",
   "execution_count": null,
   "metadata": {},
   "outputs": [],
   "source": [
    "length = 10\n",
    "print(length)\n",
    "print(area)"
   ]
  },
  {
   "cell_type": "markdown",
   "metadata": {},
   "source": [
    "To update `area` with the new value, we'd have to reassign it via `area = length * width`. Doing this over and over for multiple length and width combinations would be tedious, so instead, we can use functions."
   ]
  },
  {
   "cell_type": "markdown",
   "metadata": {},
   "source": [
    "## Functions\n",
    "A function in Python simply takes an input and returns an output. It is made of three main components: the function's name, its inputs, and its output. An optional (but highly recommended) component is the docstring, a description of the function; it is written as a string under the function definition.\n",
    "\n",
    "Let's try an example:"
   ]
  },
  {
   "cell_type": "code",
   "execution_count": null,
   "metadata": {},
   "outputs": [],
   "source": [
    "def HelloWorld():\n",
    "    \"\"\"This function prints 'Hello World!'\"\"\"\n",
    "    return print('Hello World!')\n",
    "HelloWorld()"
   ]
  },
  {
   "cell_type": "markdown",
   "metadata": {},
   "source": [
    "As you can see, the function's name is `HelloWorld`, it has no input, and its output is `Hello World!`\n",
    "Note that even if the function has no input, you must call it with parentheses for it to work properly.\n",
    "\n",
    "Because we wrote in a docstring, we can always figure out what the function does by typing `help(HelloWorld)`:"
   ]
  },
  {
   "cell_type": "code",
   "execution_count": null,
   "metadata": {},
   "outputs": [],
   "source": [
    "help(HelloWorld)"
   ]
  },
  {
   "cell_type": "markdown",
   "metadata": {},
   "source": [
    "Now, let's make a function to calculate the area of a rectangle:"
   ]
  },
  {
   "cell_type": "code",
   "execution_count": null,
   "metadata": {},
   "outputs": [],
   "source": [
    "def AreaFunction(length,width):\n",
    "    \"\"\"This function takes in the length and width of a rectangle and returns its area.\"\"\"\n",
    "    \n",
    "    area = length * width \n",
    "    \n",
    "    return area\n",
    "\n",
    "AreaFunction(4,5)"
   ]
  },
  {
   "cell_type": "markdown",
   "metadata": {},
   "source": [
    "Now, we can call the function with new values for length and width, and it will calculate the area accordingly:"
   ]
  },
  {
   "cell_type": "code",
   "execution_count": null,
   "metadata": {},
   "outputs": [],
   "source": [
    "AreaFunction(5,12)"
   ]
  },
  {
   "cell_type": "markdown",
   "metadata": {},
   "source": [
    "## Containers\n",
    "In engineering applications, you will often find yourself needing to use collections of items. In Python, there are mutliple ways of holding these collections in `containers`.\n",
    "\n",
    "### Tuple\n",
    "The simplest container is the `tuple`. You create a tuple by enclosing a list of values in parenthesis:"
   ]
  },
  {
   "cell_type": "code",
   "execution_count": null,
   "metadata": {},
   "outputs": [],
   "source": [
    "color_tuple = ('red','green','blue')\n",
    "color_tuple"
   ]
  },
  {
   "cell_type": "markdown",
   "metadata": {},
   "source": [
    "You can now select individual items in the tuple by indexing. Note that Python indexing starts at `0`; this means that to get the second item in a tuple, you must select item `1`:"
   ]
  },
  {
   "cell_type": "code",
   "execution_count": null,
   "metadata": {},
   "outputs": [],
   "source": [
    "color_tuple[1]"
   ]
  },
  {
   "cell_type": "markdown",
   "metadata": {},
   "source": [
    "### Lists\n",
    "Tuples are great, but sometimes you want to be able to change items in a container. Say you wanted to change `green` to `yellow`. You cannot do this in a tuple:"
   ]
  },
  {
   "cell_type": "code",
   "execution_count": null,
   "metadata": {},
   "outputs": [],
   "source": [
    "color_tuple[1] = 'yellow'"
   ]
  },
  {
   "cell_type": "markdown",
   "metadata": {},
   "source": [
    "Instead, you have to use a `list`. You create lists in a similar manner to tuples, but using square brackets instead of parentheses:"
   ]
  },
  {
   "cell_type": "code",
   "execution_count": null,
   "metadata": {},
   "outputs": [],
   "source": [
    "color_list = ['red','green','blue']\n",
    "color_list"
   ]
  },
  {
   "cell_type": "markdown",
   "metadata": {},
   "source": [
    "Now, we are free to change any item in the list by indexing:"
   ]
  },
  {
   "cell_type": "code",
   "execution_count": null,
   "metadata": {},
   "outputs": [],
   "source": [
    "color_list[1] = 'yellow'\n",
    "color_list"
   ]
  },
  {
   "cell_type": "markdown",
   "metadata": {},
   "source": [
    "### Dictionaries\n",
    "Say that now we want to be able to index items by some more meaningful value. For example, let's say we want to store the hexadecimal color code for certain colors. We can do this by using a dictionary, or `dict`. You can make a dictionary many ways, but the simplest is by using curly braces:"
   ]
  },
  {
   "cell_type": "code",
   "execution_count": null,
   "metadata": {},
   "outputs": [],
   "source": [
    "color_dict = {'red':'ff0000','green':'00ff00','blue':'0000ff'}\n",
    "color_dict"
   ]
  },
  {
   "cell_type": "markdown",
   "metadata": {},
   "source": [
    "What we created is a set of `key`:`value` pairs. We can find the hex code for any color in our dict by using its respective key:"
   ]
  },
  {
   "cell_type": "code",
   "execution_count": null,
   "metadata": {},
   "outputs": [],
   "source": [
    "color_dict['green']"
   ]
  },
  {
   "cell_type": "markdown",
   "metadata": {},
   "source": [
    "We can also easily add items to the dict easily by assigning a new key:value pair:"
   ]
  },
  {
   "cell_type": "code",
   "execution_count": null,
   "metadata": {},
   "outputs": [],
   "source": [
    "color_dict['yellow'] = 'ffff00'\n",
    "color_dict"
   ]
  },
  {
   "cell_type": "markdown",
   "metadata": {},
   "source": [
    "You cannot do this for tuples because tuples are uneditable, nor can you do this for lists because lists have a set length:"
   ]
  },
  {
   "cell_type": "code",
   "execution_count": null,
   "metadata": {},
   "outputs": [],
   "source": [
    "color_list[3] = 'green'"
   ]
  },
  {
   "cell_type": "markdown",
   "metadata": {},
   "source": [
    "Instead, we must append a new item to the list as follows:"
   ]
  },
  {
   "cell_type": "code",
   "execution_count": null,
   "metadata": {},
   "outputs": [],
   "source": [
    "color_list.append('green')\n",
    "color_list"
   ]
  },
  {
   "cell_type": "markdown",
   "metadata": {},
   "source": [
    "## Loops\n",
    "Now that we have containers with multiple items, it follows that we may want to loop through each value. <br>\n",
    "There are two main ways to do loops in Python: `for` and `while` loops.\n",
    "\n",
    "### For loops\n",
    "Let's start with an example of a `for` loop:"
   ]
  },
  {
   "cell_type": "code",
   "execution_count": null,
   "metadata": {},
   "outputs": [],
   "source": [
    "for color in color_list:\n",
    "    print(color_dict[color])"
   ]
  },
  {
   "cell_type": "markdown",
   "metadata": {},
   "source": [
    "We see that the loop has several main components.<br>\n",
    "&nbsp;&nbsp;First, we need a collection to iterate over. Here, we used `color_list`<br>\n",
    "&nbsp;&nbsp;Next, we need a placeholder that acts as the item in the iteration. Here, we used `color`. Note that this placeholder only exists in the loop; trying to access `color` outside of the loop will result in an error.<br>\n",
    "&nbsp;&nbsp;Last, we need an action item for the loop. Here, we just printed the hex value for each `color`.\n",
    "\n",
    "We can do some additional things with for loops. For example, say we only wanted to print hex codes for primary colors. We can do this by using an `if` statement:"
   ]
  },
  {
   "cell_type": "code",
   "execution_count": null,
   "metadata": {},
   "outputs": [],
   "source": [
    "for color in color_list:\n",
    "    if color in ['red','yellow','blue']:\n",
    "        print(color_dict[color])"
   ]
  },
  {
   "cell_type": "markdown",
   "metadata": {},
   "source": [
    "This if statement has two parts: the condition and evaluation. The condition just needs to be some expression that results in a `True` or `False`. Here are some examples:"
   ]
  },
  {
   "cell_type": "code",
   "execution_count": null,
   "metadata": {},
   "outputs": [],
   "source": [
    "print(5 > 0)\n",
    "print('red' == 'blue')\n",
    "print(3 != 'three')\n",
    "print('purple' not in ['red','green','blue'])"
   ]
  },
  {
   "cell_type": "markdown",
   "metadata": {},
   "source": [
    "We can add in additional conditions with the use of `elif` or `else` statements. The former stands for \"else if\" and lets you use another condition. The latter is a catch-all that triggers if none of the prior if/elif conditions were True:"
   ]
  },
  {
   "cell_type": "code",
   "execution_count": null,
   "metadata": {},
   "outputs": [],
   "source": [
    "if 5 < 3:\n",
    "    print('five is less than 3')\n",
    "elif 5 == 3:\n",
    "    print('five is equal to 3')\n",
    "else:\n",
    "    print('five is greater than 3')"
   ]
  },
  {
   "cell_type": "markdown",
   "metadata": {},
   "source": [
    "### While loops\n",
    "A while loop essentially combines a loop with a conditional; it keeps evaluating an expression while a condition holds. Let's use an example of finding the remainder when dividing two numbers:"
   ]
  },
  {
   "cell_type": "code",
   "execution_count": null,
   "metadata": {},
   "outputs": [],
   "source": [
    "dividend = 30\n",
    "divisor = 4\n",
    "remainder = dividend - divisor\n",
    "while remainder - divisor > 0:\n",
    "    remainder -= divisor\n",
    "print(remainder)"
   ]
  },
  {
   "cell_type": "markdown",
   "metadata": {},
   "source": [
    "Note I've used a shorthand for repeated subtraction: `-=`; `x -= 2` is shorthand for `x = x-2`. You can use the same shorthand for most arithmetic operations.\n",
    "\n",
    "You want to be careful when making while loops because it has the potential of running through infinite iterations! To stop this, it is good practice to include an additional stopping condition, such as a maximum iteration parameter:"
   ]
  },
  {
   "cell_type": "code",
   "execution_count": null,
   "metadata": {},
   "outputs": [],
   "source": [
    "max_iter = 50\n",
    "current_iter = 0\n",
    "\n",
    "x = 2\n",
    "\n",
    "while x > 0 and current_iter < max_iter:\n",
    "    current_iter += 1\n",
    "    x = x/2\n",
    "\n",
    "print(x)\n",
    "print(x>0)\n",
    "print(current_iter)"
   ]
  },
  {
   "cell_type": "markdown",
   "metadata": {},
   "source": [
    "### Zips\n",
    "Zips are a good way of iterating through multiple sequences at the same time. For example, if we want to find the dot product between two vectors $\\mathbf{x}$ and $\\mathbf{y}$, we need to loop through both vectors simultaneously: $\\mathbf{x}\\cdot\\mathbf{y}=\\sum_ix_iy_i$. We do this by zipping together x and y via `zip(x,y)`:"
   ]
  },
  {
   "cell_type": "code",
   "execution_count": null,
   "metadata": {},
   "outputs": [],
   "source": [
    "x = [1,2,3,4,5,6,7,8,9]\n",
    "y = [9,8,7,6,5,4,3,2,1]\n",
    "\n",
    "x_dot_y = 0\n",
    "\n",
    "for xi,yi in zip(x,y):\n",
    "    x_dot_y += xi * yi\n",
    "\n",
    "x_dot_y"
   ]
  },
  {
   "cell_type": "markdown",
   "metadata": {},
   "source": [
    "Note that `zip()` creates an iterable object sort of like a list, in which every list item is a tuple. As such, we could equivalently write the above code as:"
   ]
  },
  {
   "cell_type": "code",
   "execution_count": null,
   "metadata": {},
   "outputs": [],
   "source": [
    "x_dot_y = 0\n",
    "\n",
    "for zipped in zip(x,y):\n",
    "    x_dot_y += zipped[0] * zipped[1]\n",
    "\n",
    "x_dot_y"
   ]
  },
  {
   "cell_type": "markdown",
   "metadata": {},
   "source": [
    "## Conclusion\n",
    "\n",
    "That's it! You've gone through and mastered some basic functionailites of Python. With these tools, you can now do a great deal of scientific programming/computing; however, this is only the tip of the iceberg. Let's move on to the next notebook to learn more about NumPy and SciPy, two key tools for Python for Chemical Engineers."
   ]
  },
  {
   "cell_type": "code",
   "execution_count": null,
   "metadata": {},
   "outputs": [],
   "source": []
  }
 ],
 "metadata": {
  "kernelspec": {
   "display_name": "Python 3",
   "language": "python",
   "name": "python3"
  },
  "language_info": {
   "codemirror_mode": {
    "name": "ipython",
    "version": 3
   },
   "file_extension": ".py",
   "mimetype": "text/x-python",
   "name": "python",
   "nbconvert_exporter": "python",
   "pygments_lexer": "ipython3",
   "version": "3.7.6"
  }
 },
 "nbformat": 4,
 "nbformat_minor": 4
}
